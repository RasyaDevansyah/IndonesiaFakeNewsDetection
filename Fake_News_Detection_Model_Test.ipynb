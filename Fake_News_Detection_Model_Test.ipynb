{
 "cells": [
  {
   "cell_type": "code",
   "execution_count": 3,
   "id": "741a83f7",
   "metadata": {},
   "outputs": [
    {
     "name": "stdout",
     "output_type": "stream",
     "text": [
      "FAKE\n"
     ]
    }
   ],
   "source": [
    "import pickle\n",
    "\n",
    "# Load the trained model\n",
    "with open('bernoulli_naive_bayes_model.pkl', 'rb') as file:\n",
    "    loaded_bnb_model = pickle.load(file)\n",
    "\n",
    "# Load the CountVectorizer\n",
    "with open('count_vectorizer.pkl', 'rb') as file:\n",
    "    loaded_cv = pickle.load(file)\n",
    "\n",
    "# Now you can use loaded_bnb_model and loaded_cv to make predictions\n",
    "new_headline = [\"Comparing the price of oil and gas in June 2008 to March 2022 shows that oil companies are 'price gouging.'\"]\n",
    "processed_headline = loaded_cv.transform(new_headline)\n",
    "prediction = loaded_bnb_model.predict(processed_headline)[0]\n",
    "\n",
    "if prediction == 0:\n",
    "    print('FAKE')\n",
    "else:\n",
    "    print('REAL')"
   ]
  }
 ],
 "metadata": {
  "kernelspec": {
   "display_name": "Python 3",
   "language": "python",
   "name": "python3"
  },
  "language_info": {
   "codemirror_mode": {
    "name": "ipython",
    "version": 3
   },
   "file_extension": ".py",
   "mimetype": "text/x-python",
   "name": "python",
   "nbconvert_exporter": "python",
   "pygments_lexer": "ipython3",
   "version": "3.11.9"
  }
 },
 "nbformat": 4,
 "nbformat_minor": 5
}
